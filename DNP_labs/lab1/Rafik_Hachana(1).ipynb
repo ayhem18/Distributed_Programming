{
 "cells": [
  {
   "cell_type": "markdown",
   "metadata": {
    "id": "nLhD_aut0oZA"
   },
   "source": [
    "# Lab01: Assignment\n",
    "In this assignment you're required to find whether the given numbers are prime or not using sequential and parallel processing and then compare the performance of both\n",
    "\n",
    "## 1. Sequential processing"
   ]
  },
  {
   "cell_type": "markdown",
   "metadata": {
    "id": "cHtcN-5L0oZJ"
   },
   "source": [
    "Bonus points will be given if you show/print the name of the process that did calculation for given number (use current_process() from multiprocessing module) "
   ]
  },
  {
   "cell_type": "code",
   "execution_count": 1,
   "metadata": {
    "id": "vhZgec2c0oZE"
   },
   "outputs": [],
   "source": [
    "import time"
   ]
  },
  {
   "cell_type": "code",
   "execution_count": 2,
   "metadata": {
    "id": "FskNRJ3b0oZF"
   },
   "outputs": [],
   "source": [
    "numbers = [15492781, 15492787, 15492803, \n",
    "           15492811, 15492810, 15492833, \n",
    "           15492859, 15502547, 15520301, 15527509]"
   ]
  },
  {
   "cell_type": "code",
   "execution_count": 3,
   "metadata": {
    "colab": {
     "base_uri": "https://localhost:8080/"
    },
    "id": "iVBfr9Gl0oZG",
    "outputId": "ce0467fa-773c-442e-ede2-f3a6371d69c6"
   },
   "outputs": [
    {
     "name": "stdout",
     "output_type": "stream",
     "text": [
      "15492781 PRIME\n",
      "15492787 PRIME\n",
      "15492803 PRIME\n",
      "15492811 PRIME\n",
      "15492810 NOT PRIME\n",
      "15492833 PRIME\n",
      "15492859 PRIME\n",
      "15502547 PRIME\n",
      "15520301 PRIME\n",
      "15527509 PRIME\n",
      "7.623140335083008\n"
     ]
    }
   ],
   "source": [
    "def is_prime(number):\n",
    "    \"\"\"returns True if number \n",
    "    is prime, False otherwise\"\"\"\n",
    "    # your code here\n",
    "    for i in range(2,number):\n",
    "      if number % i == 0:\n",
    "        return False\n",
    "    return True\n",
    "\n",
    "    \n",
    "if __name__ == \"__main__\":\n",
    "    # your code here\n",
    "    # 1. record the start time using time() function of time module     \n",
    "    start = time.time()\n",
    "    \n",
    "    for number in numbers:\n",
    "        # 2. print the number and \n",
    "        #    whether it is prime or not.\n",
    "        #    use is_prime() function\n",
    "        verdict = \"NOT PRIME\"\n",
    "        if is_prime(number):\n",
    "          verdict = \"PRIME\"\n",
    "        print(f\"{number} {verdict}\")\n",
    "    \n",
    "    # 3. record the performance and print out\n",
    "    t_seq = time.time() - start\n",
    "    print(t_seq)"
   ]
  },
  {
   "cell_type": "markdown",
   "metadata": {
    "id": "-jqRTf710oZG"
   },
   "source": [
    "## 2. Parallel processing"
   ]
  },
  {
   "cell_type": "code",
   "execution_count": 8,
   "metadata": {
    "id": "aE5ol6yN0oZH"
   },
   "outputs": [],
   "source": [
    "from multiprocessing import Process, Queue, current_process\n",
    "from queue import Empty # exception to break from loop when the get(block=False) called on empty queue "
   ]
  },
  {
   "cell_type": "code",
   "execution_count": 10,
   "metadata": {
    "colab": {
     "base_uri": "https://localhost:8080/"
    },
    "id": "DA1UELhd0oZI",
    "outputId": "c8d86399-f2af-40ec-cec4-a4870430d860"
   },
   "outputs": [
    {
     "name": "stdout",
     "output_type": "stream",
     "text": [
      "15492781 PRIME (from process Process-111)\n",
      "15492787 PRIME (from process Process-111)\n",
      "15492803 PRIME (from process Process-111)\n",
      "15492811 PRIME (from process Process-111)\n",
      "15492810 NOT PRIME (from process Process-111)\n",
      "15492833 PRIME (from process Process-111)\n",
      "15492859 PRIME (from process Process-111)\n",
      "15502547 PRIME (from process Process-111)\n",
      "15520301 PRIME (from process Process-111)\n",
      "15527509 PRIME (from process Process-111)\n",
      "15492787 PRIME (from process Process-113)\n",
      "15492781 PRIME (from process Process-112)\n",
      "15492803 PRIME (from process Process-113)\n",
      "15492810 NOT PRIME (from process Process-113)\n",
      "15492811 PRIME (from process Process-112)\n",
      "15492833 PRIME (from process Process-113)\n",
      "15492859 PRIME (from process Process-112)\n",
      "15502547 PRIME (from process Process-113)\n",
      "15520301 PRIME (from process Process-112)\n",
      "15527509 PRIME (from process Process-113)\n",
      "15492781 PRIME (from process Process-114)\n",
      "15492787 PRIME (from process Process-115)\n",
      "15492810 NOT PRIME (from process Process-115)15492803 PRIME (from process Process-116)\n",
      "\n",
      "15492811 PRIME (from process Process-114)\n",
      "15492833 PRIME (from process Process-115)\n",
      "15492859 PRIME (from process Process-116)\n",
      "15502547 PRIME (from process Process-114)\n",
      "15527509 PRIME (from process Process-116)\n",
      "15520301 PRIME (from process Process-115)\n",
      "15492787 PRIME (from process Process-118)\n",
      "15492810 NOT PRIME (from process Process-118)\n",
      "15492803 PRIME (from process Process-119)\n",
      "15492781 PRIME (from process Process-117)\n",
      "15492811 PRIME (from process Process-120)\n",
      "15492833 PRIME (from process Process-118)\n",
      "15502547 PRIME (from process Process-117)\n",
      "15520301 PRIME (from process Process-120)\n",
      "15492859 PRIME (from process Process-119)\n",
      "15527509 PRIME (from process Process-118)\n",
      "15492810 NOT PRIME (from process Process-125)\n",
      "15492781 PRIME (from process Process-121)\n",
      "15492803 PRIME (from process Process-123)\n",
      "15492787 PRIME (from process Process-122)\n",
      "15492811 PRIME (from process Process-124)\n",
      "15492833 PRIME (from process Process-125)\n",
      "15520301 PRIME (from process Process-122)\n",
      "15492859 PRIME (from process Process-121)\n",
      "15502547 PRIME (from process Process-123)\n",
      "15527509 PRIME (from process Process-124)\n",
      "15492810 NOT PRIME (from process Process-130)\n",
      "15492811 PRIME (from process Process-129)\n",
      "15492803 PRIME (from process Process-128)\n",
      "15520301 PRIME (from process Process-128)\n",
      "15502547 PRIME (from process Process-129)\n",
      "15492781 PRIME (from process Process-126)\n",
      "15492833 PRIME (from process Process-131)\n",
      "15492787 PRIME (from process Process-127)\n",
      "15492859 PRIME (from process Process-130)\n",
      "15527509 PRIME (from process Process-128)\n",
      "15492810 NOT PRIME (from process Process-136)\n",
      "15492787 PRIME (from process Process-133)\n",
      "15520301 PRIME (from process Process-133)\n",
      "15492781 PRIME (from process Process-132)\n",
      "15492811 PRIME (from process Process-135)\n",
      "15492859 PRIME (from process Process-138)\n",
      "15492833 PRIME (from process Process-137)\n",
      "15492803 PRIME (from process Process-134)\n",
      "15502547 PRIME (from process Process-136)\n",
      "15527509 PRIME (from process Process-133)\n",
      "15492810 NOT PRIME (from process Process-143)\n",
      "15492811 PRIME (from process Process-142)15492781 PRIME (from process Process-139)\n",
      "\n",
      "15492803 PRIME (from process Process-141)\n",
      "15492787 PRIME (from process Process-140)\n",
      "15492859 PRIME (from process Process-145)\n",
      "15520301 PRIME (from process Process-146)\n",
      "15492833 PRIME (from process Process-144)\n",
      "15502547 PRIME (from process Process-143)\n",
      "15527509 PRIME (from process Process-139)\n",
      "15492810 NOT PRIME (from process Process-151)\n",
      "15492787 PRIME (from process Process-148)\n",
      "15502547 PRIME (from process Process-153)\n",
      "15492811 PRIME (from process Process-150)15492803 PRIME (from process Process-149)\n",
      "\n",
      "15492833 PRIME (from process Process-152)\n",
      "15492781 PRIME (from process Process-147)\n",
      "15492859 PRIME (from process Process-151)\n",
      "15520301 PRIME (from process Process-154)\n",
      "15527509 PRIME (from process Process-148)\n",
      "15492810 NOT PRIME (from process Process-160)\n",
      "15492781 PRIME (from process Process-156)\n",
      "15492787 PRIME (from process Process-157)\n",
      "15492859 PRIME (from process Process-163)\n",
      "15492803 PRIME (from process Process-158)\n",
      "15520301 PRIME (from process Process-160)\n",
      "15492811 PRIME (from process Process-159)\n",
      "15527509 PRIME (from process Process-165)\n",
      "15502547 PRIME (from process Process-162)\n",
      "15492833 PRIME (from process Process-161)\n",
      "[7.648794889450073, 4.256402969360352, 2.587721109390259, 2.6360280513763428, 2.3117921352386475, 2.8250303268432617, 2.822021961212158, 3.4442408084869385, 3.061716079711914, 2.596599578857422]\n"
     ]
    }
   ],
   "source": [
    "def check_prime_worker(job_queue):\n",
    "    \"\"\"worker function passed as target to Process\"\"\"\n",
    "    while True:\n",
    "        # your code here\n",
    "        # 1. get next available number from queue\n",
    "        # 2. print the number and whether it\n",
    "        #    is prime or not, use is_prime()\n",
    "        # 3. use try/except to catch Empty exception \n",
    "        #    and quit the loop if no number remains in queue\n",
    "        try:\n",
    "          number = job_queue.get(block=False)\n",
    "          verdict = \"NOT PRIME\"\n",
    "          if is_prime(number):\n",
    "            verdict = \"PRIME\"\n",
    "          print(f\"{number} {verdict} (from {current_process().name})\")\n",
    "        except Empty:\n",
    "          return\n",
    "\n",
    "        \n",
    "# calculate if the numbers are prime or not\n",
    "# measure the performance of parallel processing\n",
    "if __name__ == \"__main__\":\n",
    "    job_queue = Queue()\n",
    "    \n",
    "    t_par = []\n",
    "    # number of workers \n",
    "    for i in range(1, len(numbers)+1):\n",
    "        # preparing the jobs to be done by workers\n",
    "        for n in numbers:\n",
    "            job_queue.put(n)\n",
    "\n",
    "        # your code here\n",
    "\n",
    "        # 1. create list of processes of N process. Choose N in range of [1:len(numbers)]\n",
    "        N = i\n",
    "        processes = []\n",
    "        for _ in range(N):\n",
    "          processes.append(Process(target=check_prime_worker, args=(job_queue,)))\n",
    "\n",
    "        # 2. record the start time \n",
    "        start = time.time()\n",
    "        \n",
    "        # 3. start each of the processes\n",
    "        for process in processes:\n",
    "          process.start()\n",
    "\n",
    "        # 4. call join on each of the processes\n",
    "        for process in processes:\n",
    "          process.join()\n",
    "        # 5. measure the performance and append to the list of records\n",
    "        # t_par.append( )\n",
    "        t_par.append(time.time() - start)\n",
    "\n",
    "        \n",
    "        # 6. close the processes\n",
    "print(t_par)\n"
   ]
  },
  {
   "cell_type": "markdown",
   "metadata": {
    "id": "-AYQRdP60oZJ"
   },
   "source": [
    "## 3. Compare the performance of Sequential processing against Parallel processing \n",
    "Draw a simple 2D graph using matplotlib:\n",
    "- X axis should be number of processes from part 2, i.e., it should have values: 1, 2, 3,.., len(numbers)\n",
    "- Y axis should be ratio of \"time for sequential processing\" (t_seq) to a \"time for parallel processing\" (t_par[i-1]) when i processes are used.\n",
    "\n",
    "Explain the results in a few sentences and what factors can affect it?"
   ]
  },
  {
   "cell_type": "code",
   "execution_count": 11,
   "metadata": {},
   "outputs": [
    {
     "name": "stdout",
     "output_type": "stream",
     "text": [
      "Requirement already satisfied: matplotlib in ./venv/lib/python3.8/site-packages (3.4.3)\r\n",
      "Requirement already satisfied: kiwisolver>=1.0.1 in ./venv/lib/python3.8/site-packages (from matplotlib) (1.3.1)\r\n",
      "Requirement already satisfied: python-dateutil>=2.7 in ./venv/lib/python3.8/site-packages (from matplotlib) (2.8.2)\r\n",
      "Requirement already satisfied: cycler>=0.10 in ./venv/lib/python3.8/site-packages (from matplotlib) (0.10.0)\r\n",
      "Requirement already satisfied: numpy>=1.16 in ./venv/lib/python3.8/site-packages (from matplotlib) (1.21.2)\r\n",
      "Requirement already satisfied: pyparsing>=2.2.1 in ./venv/lib/python3.8/site-packages (from matplotlib) (2.4.7)\r\n",
      "Requirement already satisfied: pillow>=6.2.0 in ./venv/lib/python3.8/site-packages (from matplotlib) (8.3.1)\r\n",
      "Requirement already satisfied: six in ./venv/lib/python3.8/site-packages (from cycler>=0.10->matplotlib) (1.16.0)\r\n"
     ]
    }
   ],
   "source": [
    "!pip install matplotlib"
   ]
  },
  {
   "cell_type": "code",
   "execution_count": 12,
   "metadata": {
    "colab": {
     "base_uri": "https://localhost:8080/",
     "height": 265
    },
    "id": "XadfFhS7nWFV",
    "outputId": "7bddfc62-a638-40a8-ed99-61b25f6cdb7d",
    "scrolled": true
   },
   "outputs": [
    {
     "data": {
      "image/png": "[encoded data removed]",
      "text/plain": [
       "<Figure size 432x288 with 1 Axes>"
      ]
     },
     "metadata": {
      "needs_background": "light"
     },
     "output_type": "display_data"
    }
   ],
   "source": [
    "import matplotlib.pyplot as plt\n",
    "\n",
    "plt.plot([i+1 for i in range(len(numbers))], [i/t_seq for i in t_par])\n",
    "plt.show()"
   ]
  },
  {
   "cell_type": "code",
   "execution_count": null,
   "metadata": {},
   "outputs": [],
   "source": []
  },
  {
   "cell_type": "code",
   "execution_count": null,
   "metadata": {},
   "outputs": [],
   "source": []
  },
  {
   "cell_type": "markdown",
   "metadata": {},
   "source": [
    "### The factors affecting performance\n",
    "\n",
    "The above results can be affected by the number of available CPU cores, the overhead from context-switching between processes, as well as the number of prime numbers to be processed. \n",
    "\n",
    "When using more processes, we get a better performance as long as we are using multiple CPU cores. But once the number of processes exceeds the number of CPU cores, we would have processes being switched on the same core, which needs extra overhead and therefore reduces performance (compared to having one process per CPU core). Having more processes than prime numbers would also reduce performance as some processes would just get started and do nothing."
   ]
  },
  {
   "cell_type": "code",
   "execution_count": null,
   "metadata": {},
   "outputs": [],
   "source": []
  }
 ],
 "metadata": {
  "accelerator": "GPU",
  "colab": {
   "collapsed_sections": [],
   "name": "Lab01_assignment.ipynb",
   "provenance": []
  },
  "kernelspec": {
   "display_name": "Python 3 (ipykernel)",
   "language": "python",
   "name": "python3"
  },
  "language_info": {
   "codemirror_mode": {
    "name": "ipython",
    "version": 3
   },
   "file_extension": ".py",
   "mimetype": "text/x-python",
   "name": "python",
   "nbconvert_exporter": "python",
   "pygments_lexer": "ipython3",
   "version": "3.8.10"
  }
 },
 "nbformat": 4,
 "nbformat_minor": 1
}
