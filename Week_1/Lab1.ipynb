{
 "cells": [
  {
   "cell_type": "markdown",
   "metadata": {},
   "source": [
    "# Lab1\n",
    "## Background\n",
    "### UDP\n",
    "UDP is an internet protocol. IT is connectionless and unreliable (yet quite fast). Although TCP is quite reliable and assures data delivery (even with certain delay), such features impose significant burden on the protocol which means greater latency and slower performance. UDP's importance is clear as it is crucial for streaming services and real-time applications where certains packets lost in the process do not affect the overall quality.\n",
    "#### UDP Header\n",
    "UDP's header is quite simple: \n",
    "* Source port: the port of the sender's host\n",
    "* Destination port: the port of the receiver's host\n",
    "* Length: a field to save the acual length of the UDP datagram\n",
    "* Checksum: As there is no error handling mechanisms in UDP, the latter is not mandatory. IP and ICMP are used for error reporting/handling"
   ]
  },
  {
   "cell_type": "markdown",
   "metadata": {},
   "source": [
    "## Socket Programming\n",
    "In this lab we will use Socket Programming in Python. The main concepts can be found through this [tutorial](https://www.binarytides.com/python-socket-programming-tutorial/).\n",
    "### Client and Server\n",
    "The main communication process between the two hosts known as client and server is represented in this [picture](https://files.realpython.com/media/sockets-tcp-flow.1da426797e37.jpg)"
   ]
  },
  {
   "cell_type": "code",
   "execution_count": null,
   "metadata": {},
   "outputs": [],
   "source": [
    "## socket Programming"
   ]
  },
  {
   "cell_type": "code",
   "execution_count": null,
   "metadata": {},
   "outputs": [],
   "source": [
    "# create a socket\n",
    "\n",
    "import socket as sk\n",
    "# create a AF_INET, STREAM socket (TCP)\n",
    "\n",
    "sk_obj = sk.socket(sk.AF_INET, sk.SOCK_STREAM) # using the sk.SOCK_SDGRAM we will swith the protocol to UDP\n",
    "\n",
    "print(\"first socket created\")\n",
    "\n",
    "## AF_INET: address familyt\n",
    "## SOCK_: the type of connection\n"
   ]
  },
  {
   "cell_type": "code",
   "execution_count": null,
   "metadata": {},
   "outputs": [],
   "source": [
    "# in case of failure\n",
    "import sys\n",
    "try:\n",
    "\t#create an AF_INET, STREAM socket (TCP)\n",
    "\ts = sk.socket(sk.AF_INET, sk.SOCK_STREAM)\n",
    "except (sk.error, msg):\n",
    "\tprint ('Failed to create socket. Error code: ' + str(msg[0]) + ' , Error message : ' + msg[1])\n",
    "\tsys.exit();\n",
    "\n",
    "print ('Socket Created')"
   ]
  },
  {
   "cell_type": "code",
   "execution_count": null,
   "metadata": {},
   "outputs": [],
   "source": [
    "#  let's try to connect to a server: 2 things are needed\n",
    "# IP address as well as port number\n",
    "\n",
    "host = \"www.google.com\"\n",
    "try:\n",
    "    remote_ip = sk.gethostbyname(host)\n",
    "except sk.gaierror:\n",
    "    # could not resolve\n",
    "    print(\"host IP address could not be found. Sorry !!\")\n",
    "    sys.exit()\n",
    "print(\"The host's IP address is {ip}\".format(ip=remote_ip))"
   ]
  },
  {
   "cell_type": "code",
   "execution_count": null,
   "metadata": {},
   "outputs": [],
   "source": [
    "# we just need to choose a port and then connect to the remote host\n",
    "# use the socket object create earlier\n",
    "\n",
    "port = 80\n",
    "sk_obj.connect((remote_ip, port))\n",
    "print(\"Our socket connected to \" + str(host) + \" on ip \" + str(remote_ip) + \" on port \" + str(port))"
   ]
  },
  {
   "cell_type": "markdown",
   "metadata": {},
   "source": [
    "The concept of connection does not apply to **UDP** as it a connectionless  protocol."
   ]
  },
  {
   "cell_type": "code",
   "execution_count": null,
   "metadata": {},
   "outputs": [],
   "source": [
    "# let's send a string to google.com\n",
    "\n",
    "#Send some data to remote server\n",
    "message = \"GET / HTTP/1.1\\r\\n\\r\\n\"\n",
    "\n",
    "encd = 'utf-8'\n",
    "try :\n",
    "\t## the first method\n",
    "\t\n",
    "\t# msg = bytes(message, encd)\n",
    "\t# sk_obj.sendall(msg)\n",
    "\t\n",
    "\t## the second and better method:\n",
    "\tmsg = message.encode() # default to utf-8\n",
    "\tsk_obj.sendall(msg)\n",
    "except sk.error:\n",
    "\t#Send failed\n",
    "\tprint ('Send failed')\n",
    "\tsys.exit()\n",
    "\n",
    "print ('Message sent successfully')"
   ]
  },
  {
   "cell_type": "code",
   "execution_count": null,
   "metadata": {},
   "outputs": [],
   "source": [
    "# time to receive the data from the server\n",
    "local_port = 2000\n",
    "reply = sk_obj.recv(local_port)\n",
    "print(reply)"
   ]
  },
  {
   "cell_type": "code",
   "execution_count": null,
   "metadata": {},
   "outputs": [],
   "source": [
    "## it is time to close the socket\n",
    "sk_obj.close()"
   ]
  },
  {
   "cell_type": "markdown",
   "metadata": {},
   "source": [
    "This was the client side of things. However, clients on their own cannot do much. We need consider the server side as well\n"
   ]
  },
  {
   "cell_type": "code",
   "execution_count": null,
   "metadata": {},
   "outputs": [],
   "source": [
    "# socket and sys are already imported\n",
    "HOST = '' # symbolic name that represents all available interfaces\n",
    "PORT = 2347 # arbitrary non-privileged port\n",
    "\n",
    "ser_sk = sk.socket(sk.AF_INET, sk.SOCK_STREAM) \n",
    "\n",
    "try:\n",
    "    ser_sk.bind((HOST, PORT))\n",
    "except sk.error:\n",
    "\tprint ('Bind failed. Error Code : ' + str(msg[0]) + ' Message ' + str(msg[1]))\n",
    "\tsys.exit()\n",
    "print(\"server socket bind successfully\")\n",
    "\n",
    "## binding ties this socket to a certain IP address and a certain Port number.\n",
    "## In other words, any request sent to the specific coordinates are to be received by this socket\n"
   ]
  },
  {
   "cell_type": "code",
   "execution_count": null,
   "metadata": {},
   "outputs": [],
   "source": [
    "MAX_CONNECTIONS = 5\n",
    "ser_sk.listen(MAX_CONNECTIONS) # the paramters means that if there MAX_CONNECTIONS waiting to be processed by the server socket\n",
    "# then the next one will be rejected. \n",
    "\n",
    "print(\"server socket listening\")\n",
    "# accept connections\n",
    "\n",
    "client_connection, client_address = ser_sk.accept()\n",
    "# the address object stores the client's information\n",
    "print('Connected with ' + client_address[0] + ':' + str(client_address[1]))\n"
   ]
  },
  {
   "cell_type": "code",
   "execution_count": null,
   "metadata": {},
   "outputs": [],
   "source": [
    "## the code above enables the server to accept a connection and close it immediately which is not so interesting\n",
    "# let's spice things up\n",
    "\n",
    "BUFFER_SIZE = 1024\n",
    "data = client_connection.recv(BUFFER_SIZE) # receive data in predetermined size \n",
    "\n",
    "data_str = data.decode()\n",
    "\n",
    "client_connection.sendall(data_str[BUFFER_SIZE / 2].encode()) # resend half of the data back to the client \n",
    "client_connection.close() # close the connection first\n",
    "ser_sk.close() # close the socket\n"
   ]
  },
  {
   "cell_type": "code",
   "execution_count": null,
   "metadata": {},
   "outputs": [],
   "source": []
  },
  {
   "cell_type": "code",
   "execution_count": null,
   "metadata": {},
   "outputs": [],
   "source": []
  },
  {
   "cell_type": "code",
   "execution_count": null,
   "metadata": {},
   "outputs": [],
   "source": []
  }
 ],
 "metadata": {
  "kernelspec": {
   "display_name": "Python 3.10.4 ('ds_env')",
   "language": "python",
   "name": "python3"
  },
  "language_info": {
   "codemirror_mode": {
    "name": "ipython",
    "version": 3
   },
   "file_extension": ".py",
   "mimetype": "text/x-python",
   "name": "python",
   "nbconvert_exporter": "python",
   "pygments_lexer": "ipython3",
   "version": "3.10.4"
  },
  "orig_nbformat": 4,
  "vscode": {
   "interpreter": {
    "hash": "006414dea9a04848ce797b510a25f3f28ac8668e3d3244e777242cca6bed477f"
   }
  }
 },
 "nbformat": 4,
 "nbformat_minor": 2
}
