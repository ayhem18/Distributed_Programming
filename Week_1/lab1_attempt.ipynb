{
 "cells": [
  {
   "cell_type": "code",
   "execution_count": 3,
   "metadata": {},
   "outputs": [],
   "source": [
    "host_ip = \"127.12.88.05\"  # random_value for the moment\n"
   ]
  },
  {
   "cell_type": "code",
   "execution_count": null,
   "metadata": {},
   "outputs": [],
   "source": [
    "import socket as sk\n",
    "\n",
    "# let's first code the client's side\n",
    "import sys\n",
    "try:\n",
    "\t#create an AF_INET, STREAM socket (TCP)\n",
    "\ts = sk.socket(sk.AF_INET, sk.SOCK_STREAM)\n",
    "except sk.error:\n",
    "\tprint ('Failed to create socket')\n",
    "\tsys.exit()\n",
    "\n",
    "print ('Socket Created')"
   ]
  },
  {
   "cell_type": "code",
   "execution_count": null,
   "metadata": {},
   "outputs": [],
   "source": [
    "import os\n",
    "file_name = \"file\"\n",
    "file_size = os.path.getsize(file_name)\n"
   ]
  },
  {
   "cell_type": "code",
   "execution_count": null,
   "metadata": {},
   "outputs": [],
   "source": [
    "start_code = 's'\n",
    "data_code = 'd'\n",
    "delimiter = \"|\"\n",
    "ack_code = 'a'\n",
    "\n",
    "def create_start_packet(seq_num:int, file_name:str, file_size:int) -> str:\n",
    "    global delimiter\n",
    "    return delimiter.join([start_code, str(seq_num), file_name, str(file_size)]).encode()\n",
    "\n",
    "client_time_out = 1000 # 1 second\n",
    "\n",
    "def verify_ack_start(data_received:bytes):\n",
    "    \"\"\"This function verifies whether the data sent by the server verifies the following format:\n",
    "        a|next_seq_num|buff_size where:\n",
    "        * a is literally the letter acknowledgment string\n",
    "        * next_seq_num\n",
    "        \"\"\"\n",
    "    data_str = data_received.decode()\n",
    "    n = data_str.split(delimiter)\n",
    "    if n < 3 : \n",
    "        return None\n",
    "    comps = data_str.split(delimiter)\n",
    "    verify = False\n",
    "    try:\n",
    "        verify =  comps[0] == ack_code and comps[1].isdigit() and comps[2].isdigit()\n",
    "    except:\n",
    "        verify = False\n",
    "    return comps[:3] if verify else None\n",
    "\n",
    "client_time_out_count = 5\n",
    "\n",
    "def send_start_packet(socket_obj: sk.socket, server_add:tuple, seq_num:int, file_name:str, file_size:int):\n",
    "    # send 5 times with a timeout of 0.5 seconds\n",
    "    for _ in range(client_time_out_count):\n",
    "        socket_obj.sendto(create_start_packet(seq_num, file_name, file_size)) \n",
    "        socket_obj.timeout(client_time_out)\n",
    "        server_reply = s.recv()\n",
    "        # if the server_reply object in not None then the  \n",
    "        if server_reply : # if the socket received a packet\n",
    "            reply = verify_ack_start(server_reply) # if the packet falls under the conditions of the server\n",
    "            if reply is not None: # return if the message is good\n",
    "                return reply \n",
    "        \n",
    "            \n",
    "\n"
   ]
  },
  {
   "cell_type": "code",
   "execution_count": null,
   "metadata": {},
   "outputs": [],
   "source": [
    "def create_data_packet(seq_num: int, data:bytes):\n",
    "    data_str = data.decode()\n",
    "    return delimiter.join([data_code, str(seq_num), data_str]).encode()\n",
    "\n",
    "def verify_ack_data(data_received:bytes):\n",
    "    data_str = data_received.decode()\n",
    "    n = data_str.split(delimiter)\n",
    "    if n < 2 : \n",
    "        return None\n",
    "    comps = data_str.split(delimiter)\n",
    "    verify = False\n",
    "    try:\n",
    "        verify =  comps[0] == ack_code and comps[1].isdigit() \n",
    "    except:\n",
    "        verify = False\n",
    "    return comps[:2] if verify else None\n",
    "\n",
    "\n",
    "\n",
    "def send_data_packet(socket_obj, server_add:tuple, seq_num:int, data:bytes):\n",
    "    for _ in range(client_time_out_count):\n",
    "        socket_obj.sendto(create_data_packet(seq_num, file_name, file_size)) \n",
    "        socket_obj.timeout(client_time_out)\n",
    "        server_reply = s.recv()\n",
    "        # if the server_reply object in not None then the  \n",
    "        if server_reply : # if the socket received a packet\n",
    "            reply = verify_ack_data(server_reply) # if the packet falls under the conditions of the server\n",
    "            if reply is not None: # return if the message is good\n",
    "                return reply # return a list containing the components of the server's reply\n"
   ]
  },
  {
   "cell_type": "code",
   "execution_count": 1,
   "metadata": {},
   "outputs": [
    {
     "name": "stdout",
     "output_type": "stream",
     "text": [
      "895\n",
      "895\n"
     ]
    }
   ],
   "source": [
    "with open(\"test_file.txt\", 'r') as f:\n",
    "   print(len(f.read()))\n",
    "   print(os.path.getsize(os.path.join(\"test_file.txt\")))     "
   ]
  },
  {
   "cell_type": "code",
   "execution_count": null,
   "metadata": {},
   "outputs": [],
   "source": [
    "## client's code\n",
    "\n",
    "# first thing, extract arguments from the command line\n",
    "import sys\n",
    "import os\n",
    "from math import floor, ceil\n",
    "args = sys.argv\n",
    "assert len(args) == 4  # make sure the correct number of arguments is passed\n",
    "\n",
    "port = args[1]\n",
    "file = os.path.join(args[2])\n",
    "file_name_server = args[3]\n",
    "\n",
    "\n",
    "try:\n",
    "\t#create an AF_INET, STREAM socket (TCP)\n",
    "\tclient_s = sk.socket(sk.AF_INET, sk.SOCK_DGRAM)\n",
    "except sk.error:\n",
    "\tprint ('Failed to create socket')\n",
    "\tsys.exit();\n",
    "# client socket created\n",
    "print ('Socket Created')\n",
    "\n",
    "# get the host address\n",
    "\n",
    "remote_ip = '127.00.50.34'\n",
    "# prepare the information needed for starting the session\n",
    "\n",
    "server_addr = (remote_ip, port)\n",
    "seq_num = 0\n",
    "file_size = os.path.getsize(file)\n",
    "\n",
    "server_reply = send_start_packet(client_s, server_addr, seq_num, file_size)\n",
    "\n",
    "if server_reply is None:\n",
    "    print(\"The server is unavailable!!\")\n",
    "    sys.exit()\n",
    "\n",
    "a , next_seq, buffer_size = server_reply\n",
    "next_seq = int(next_seq)\n",
    "buffer_size = int(buffer_size)\n",
    "\n",
    "udp_max_header = 16 # an udp packet takes at most 16 bytes\n",
    "data_trans = buffer_size - udp_max_header\n",
    "n_trans = ceil( file_size  / data_trans) # the number of transfers\n",
    "                         \n"
   ]
  },
  {
   "cell_type": "code",
   "execution_count": null,
   "metadata": {},
   "outputs": [],
   "source": [
    "with open(file, 'r') as f: # this will guarantee the file will be closed regardless of the exectution of the program\n",
    "    for i in range(n_trans):\n",
    "        data_bytes = file.read()[i * data_trans: min((i + 1) * data_trans,file_size)] # take the i-th chunk of data\n",
    "        server_reply = send_data_packet(client_s, server_addr, next_seq, data_bytes)\n",
    "        if server_reply is None:\n",
    "            print(\"The server is unavailable\")\n",
    "            sys.exit()\n",
    "        else:\n",
    "            next_seq = int(server_reply[1])\n"
   ]
  }
 ],
 "metadata": {
  "kernelspec": {
   "display_name": "Python 3.10.4 ('ds_env')",
   "language": "python",
   "name": "python3"
  },
  "language_info": {
   "codemirror_mode": {
    "name": "ipython",
    "version": 3
   },
   "file_extension": ".py",
   "mimetype": "text/x-python",
   "name": "python",
   "nbconvert_exporter": "python",
   "pygments_lexer": "ipython3",
   "version": "3.10.4"
  },
  "orig_nbformat": 4,
  "vscode": {
   "interpreter": {
    "hash": "006414dea9a04848ce797b510a25f3f28ac8668e3d3244e777242cca6bed477f"
   }
  }
 },
 "nbformat": 4,
 "nbformat_minor": 2
}
